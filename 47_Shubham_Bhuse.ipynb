{
 "cells": [
  {
   "cell_type": "markdown",
   "id": "6dfe41e9",
   "metadata": {},
   "source": [
    "### Q1. Given a two list. Create a third list by picking an odd-index element from the first list and even index elements from the second.\n",
    "\n"
   ]
  },
  {
   "cell_type": "code",
   "execution_count": 10,
   "id": "6580ab27",
   "metadata": {},
   "outputs": [
    {
     "name": "stdout",
     "output_type": "stream",
     "text": [
      "Element at odd-index positions from list1: [6, 12, 18, 22, 7]\n",
      "Element at even-index positions from list2: [4, 12, 20, 28, 50, 9]\n",
      "Final list: [6, 12, 18, 22, 7, 4, 12, 20, 28, 50, 9]\n"
     ]
    }
   ],
   "source": [
    "list1=[3, 6, 9, 12, 15, 18, 21,22,22,7,8]\n",
    "list2=[4, 8, 12, 16, 20, 24, 28,56,50,6,9,70]\n",
    "odd=[]\n",
    "even=[]\n",
    "flist=[]\n",
    "for i in range(len(list1)):\n",
    "  if i%2==0:\n",
    "    pass\n",
    "  else:\n",
    "    odd.append(list1[i])\n",
    "for j in range(len(list2)):\n",
    "  if j%2==0:\n",
    "    even.append(list2[j])\n",
    "\n",
    "print('Element at odd-index positions from list1:',odd)\n",
    "print('Element at even-index positions from list2:',even)\n",
    "\n",
    "flist.extend(odd)\n",
    "flist.extend(even)\n",
    "\n",
    "print(\"Final list:\",flist)"
   ]
  },
  {
   "cell_type": "markdown",
   "id": "08ea0021",
   "metadata": {},
   "source": [
    "### Q2. Given a number count the total number of digits in a number"
   ]
  },
  {
   "cell_type": "code",
   "execution_count": 1,
   "id": "0ef5e1fa",
   "metadata": {},
   "outputs": [
    {
     "name": "stdout",
     "output_type": "stream",
     "text": [
      "Enter the number: 123456\n",
      "Total number of digits 6\n"
     ]
    }
   ],
   "source": [
    "n=input(\"Enter the number: \")\n",
    "print(\"Total number of digits\",len(n))\n"
   ]
  },
  {
   "cell_type": "markdown",
   "id": "95cea307",
   "metadata": {},
   "source": [
    "### Q3. Write a Python program to print the numbers of a specified list after removing even numbers from it."
   ]
  },
  {
   "cell_type": "code",
   "execution_count": 8,
   "id": "0e9412f6",
   "metadata": {},
   "outputs": [
    {
     "name": "stdout",
     "output_type": "stream",
     "text": [
      "New list after removing even numbers c= [15, 15, 17, 17, 17, 19, 19, 21, 27, 31, 33, 37, 61, 63, 71, 87, 97, 99]\n"
     ]
    }
   ],
   "source": [
    "b= [16, 12, 18,99,97,87,71,88,78,66,61,62,63,22, 17, 14,20,10,30,40,50, 12, 20, 28, 50, 19,17,22,18,18,14,15,18,22,15,17,19,21,27,31,33,37]\n",
    "c=[]\n",
    "for i in b:\n",
    "    if i%2==0:\n",
    "        continue\n",
    "    c.append(i)\n",
    "print(\"New list after removing even numbers c=\",sorted(c))"
   ]
  },
  {
   "cell_type": "markdown",
   "id": "ae727c1f",
   "metadata": {},
   "source": [
    "### Q4. Write a Python program to generate and print a list of first and last 5 elements where the values are square of numbers between 1 and 30 (both included)."
   ]
  },
  {
   "cell_type": "code",
   "execution_count": 52,
   "id": "b5a8c7e9",
   "metadata": {},
   "outputs": [
    {
     "name": "stdout",
     "output_type": "stream",
     "text": [
      "Enter numbers\n",
      "121\n",
      "90\n",
      "60\n",
      "225\n",
      "81\n",
      "225\n",
      "62\n",
      "3593\n",
      "24\n",
      "25\n",
      "49\n",
      "\n",
      "List= [121, 90, 60, 225, 81, 225, 62, 3593, 24, 25, 49]\n",
      "first 5 elements whose square between 1 to 30 [121, 225, 81]\n",
      "Last 5 elements whose square between 1 to 30 [225, 25, 49]\n"
     ]
    }
   ],
   "source": [
    "s=[]\n",
    "f1=[]\n",
    "f2=[]\n",
    "print(\"Enter numbers\")\n",
    "while True:\n",
    "    a=input('')\n",
    "    if a=='':\n",
    "        break\n",
    "    s.append(int(a))\n",
    "print(\"List=\",s)\n",
    "for i in s[:5]:\n",
    "    for j in range(1,30):\n",
    "        p=i/j\n",
    "        if p==j:\n",
    "            f1.append(i)\n",
    "for m in s[-6:]:\n",
    "    for k in range(1,30):\n",
    "        p=m/k\n",
    "        if p==k:\n",
    "            f2.append(m)\n",
    "print(\"first 5 elements values square of between 1 to 30\",f1)\n",
    "print(\"Last 5 elements values square of between 1 to 30\",f2)"
   ]
  },
  {
   "cell_type": "code",
   "execution_count": null,
   "id": "084b5373",
   "metadata": {},
   "outputs": [],
   "source": []
  },
  {
   "cell_type": "markdown",
   "id": "91af3d29",
   "metadata": {},
   "source": [
    "### Q5. Write a Python program to generate all permutations of a list in Python"
   ]
  },
  {
   "cell_type": "code",
   "execution_count": 28,
   "id": "2e3f97af",
   "metadata": {},
   "outputs": [
    {
     "name": "stdout",
     "output_type": "stream",
     "text": [
      "1\n",
      "2\n",
      "3\n",
      "4\n",
      "\n",
      "List [1, 2, 3, 4]\n",
      "(1, 2, 3, 4)\n",
      "(1, 2, 4, 3)\n",
      "(1, 3, 2, 4)\n",
      "(1, 3, 4, 2)\n",
      "(1, 4, 2, 3)\n",
      "(1, 4, 3, 2)\n",
      "(2, 1, 3, 4)\n",
      "(2, 1, 4, 3)\n",
      "(2, 3, 1, 4)\n",
      "(2, 3, 4, 1)\n",
      "(2, 4, 1, 3)\n",
      "(2, 4, 3, 1)\n",
      "(3, 1, 2, 4)\n",
      "(3, 1, 4, 2)\n",
      "(3, 2, 1, 4)\n",
      "(3, 2, 4, 1)\n",
      "(3, 4, 1, 2)\n",
      "(3, 4, 2, 1)\n",
      "(4, 1, 2, 3)\n",
      "(4, 1, 3, 2)\n",
      "(4, 2, 1, 3)\n",
      "(4, 2, 3, 1)\n",
      "(4, 3, 1, 2)\n",
      "(4, 3, 2, 1)\n",
      "Total permutations= 24\n"
     ]
    }
   ],
   "source": [
    "from itertools import permutations\n",
    "\n",
    "listA = []\n",
    "count=0\n",
    "while True:\n",
    "    a=input('')\n",
    "    if a=='':\n",
    "        break\n",
    "    listA.append(int(a))\n",
    "print(\"List\",listA)\n",
    "perm = permutations(listA)\n",
    "for i in list(perm): \n",
    "    print(i)\n",
    "    count+=1\n",
    "print(\"Total permutations=\",count)\n"
   ]
  },
  {
   "cell_type": "markdown",
   "id": "55992a47",
   "metadata": {},
   "source": [
    "### Q6. Write a python program to check whether two lists are circularly identical."
   ]
  },
  {
   "cell_type": "code",
   "execution_count": 1,
   "id": "48c828fb",
   "metadata": {},
   "outputs": [
    {
     "name": "stdout",
     "output_type": "stream",
     "text": [
      "circularly identical\n"
     ]
    }
   ],
   "source": [
    "L1=[1,2,3,4,5]\n",
    "L2=[1,2,3,4,5]\n",
    "c=0\n",
    "d=0\n",
    "while True:\n",
    "    e=L1[0]\n",
    "    L1.pop(0)\n",
    "    L1.append(e)\n",
    "    d=len(L2)\n",
    "    c+=1\n",
    "    if L1==L2:\n",
    "        print ('circularly identical')\n",
    "        break\n",
    "    if c==d:\n",
    "        print ('circularly not identical')\n",
    "        break"
   ]
  },
  {
   "cell_type": "markdown",
   "id": "aea95370",
   "metadata": {},
   "source": [
    "### Q7. Write a Python program to change the position of every n-th value with the (n+1)th in a list. "
   ]
  },
  {
   "cell_type": "code",
   "execution_count": 3,
   "id": "58e005fe",
   "metadata": {},
   "outputs": [
    {
     "name": "stdout",
     "output_type": "stream",
     "text": [
      "[15, 22, 24, 55, 87, 45, 48, 36]\n"
     ]
    }
   ],
   "source": [
    "n1=[22,15,55,24,45,87,36,48]\n",
    "\n",
    "for i in range(0,len(n1),2):\n",
    "    n1[i],n1[i+1]=n1[i+1],n1[i]\n",
    "    \n",
    "print(n1)"
   ]
  },
  {
   "cell_type": "markdown",
   "id": "99dfccd2",
   "metadata": {},
   "source": [
    "### Q8. Write a Python program to iterate over two lists simultaneously.  "
   ]
  },
  {
   "cell_type": "code",
   "execution_count": 41,
   "id": "190d1d35",
   "metadata": {},
   "outputs": [
    {
     "name": "stdout",
     "output_type": "stream",
     "text": [
      "[11, 10] [22, 20] [33, 30] [44, 40] [50, 55] "
     ]
    }
   ],
   "source": [
    "lone=[11,22,33,44,50]\n",
    "ltwo=[10,20,30,40,55]\n",
    "lthree=[]\n",
    "k=0\n",
    "for i in range(len(lone)):\n",
    "    \n",
    "    lthree.append(lone[i])\n",
    "    lthree.append(ltwo[i])\n",
    "    print(lthree[k:],end=' ')\n",
    "    k+=2\n",
    "    \n",
    "    \n",
    "    "
   ]
  },
  {
   "cell_type": "markdown",
   "id": "811ff412",
   "metadata": {},
   "source": [
    "### Q9. Write a Python program to generate the combinations of n distinct objects taken from the elements of a given list. Original list: [1, 2, 3, 4, 5, 6, 7, 8, 9] Combinations of 2 distinct objects: [1, 2] [1, 3] [1, 4] [1, 5] .... [7, 8] [7, 9] [8, 9]\n"
   ]
  },
  {
   "cell_type": "code",
   "execution_count": 56,
   "id": "fdd1fc4d",
   "metadata": {},
   "outputs": [
    {
     "name": "stdout",
     "output_type": "stream",
     "text": [
      "[[1, 2], [1, 3], [1, 4], [1, 5], [1, 6], [1, 7], [1, 8], [1, 9], [2, 1], [2, 3], [2, 4], [2, 5], [2, 6], [2, 7], [2, 8], [2, 9], [3, 1], [3, 2], [3, 4], [3, 5], [3, 6], [3, 7], [3, 8], [3, 9], [4, 1], [4, 2], [4, 3], [4, 5], [4, 6], [4, 7], [4, 8], [4, 9], [5, 1], [5, 2], [5, 3], [5, 4], [5, 6], [5, 7], [5, 8], [5, 9], [6, 1], [6, 2], [6, 3], [6, 4], [6, 5], [6, 7], [6, 8], [6, 9], [7, 1], [7, 2], [7, 3], [7, 4], [7, 5], [7, 6], [7, 8], [7, 9], [8, 1], [8, 2], [8, 3], [8, 4], [8, 5], [8, 6], [8, 7], [8, 9], [9, 1], [9, 2], [9, 3], [9, 4], [9, 5], [9, 6], [9, 7], [9, 8]]\n"
     ]
    }
   ],
   "source": [
    "A =  [1, 2, 3, 4, 5, 6, 7, 8, 9]\n",
    "\n",
    "\n",
    "B = []\n",
    "\n",
    "for i in A:\n",
    "    for j in A:\n",
    "        C = []\n",
    "        if (i == j):\n",
    "            continue\n",
    "        elif (i != j):\n",
    "            C.append(i)\n",
    "        C.append(j)\n",
    "        B.append(C)\n",
    "print(B)\n"
   ]
  },
  {
   "cell_type": "markdown",
   "id": "3796914d",
   "metadata": {},
   "source": [
    "### Q10. Write a Python program to remove duplicates from a list of lists."
   ]
  },
  {
   "cell_type": "code",
   "execution_count": 55,
   "id": "9057b29e",
   "metadata": {},
   "outputs": [
    {
     "name": "stdout",
     "output_type": "stream",
     "text": [
      "[[10, 20], [40], [30, 56, 25], [33]]\n"
     ]
    }
   ],
   "source": [
    "lista= [[10, 20], [40], [30, 56, 25], [10,20], [33],[40]]\n",
    "listb=[]\n",
    "for i in lista:\n",
    "    if i not in listb:\n",
    "        listb.append(i)\n",
    "print(listb)\n"
   ]
  },
  {
   "cell_type": "code",
   "execution_count": null,
   "id": "f24a7b2d",
   "metadata": {},
   "outputs": [],
   "source": []
  },
  {
   "cell_type": "code",
   "execution_count": null,
   "id": "b19116ec",
   "metadata": {},
   "outputs": [],
   "source": []
  },
  {
   "cell_type": "code",
   "execution_count": null,
   "id": "bcc18c6d",
   "metadata": {},
   "outputs": [],
   "source": []
  },
  {
   "cell_type": "code",
   "execution_count": null,
   "id": "c907c38d",
   "metadata": {},
   "outputs": [],
   "source": [
    "   "
   ]
  },
  {
   "cell_type": "code",
   "execution_count": null,
   "id": "dfd42b0b",
   "metadata": {},
   "outputs": [],
   "source": []
  },
  {
   "cell_type": "code",
   "execution_count": null,
   "id": "b9e3e775",
   "metadata": {},
   "outputs": [],
   "source": []
  },
  {
   "cell_type": "code",
   "execution_count": null,
   "id": "2169ffe3",
   "metadata": {},
   "outputs": [],
   "source": []
  }
 ],
 "metadata": {
  "kernelspec": {
   "display_name": "Python 3 (ipykernel)",
   "language": "python",
   "name": "python3"
  },
  "language_info": {
   "codemirror_mode": {
    "name": "ipython",
    "version": 3
   },
   "file_extension": ".py",
   "mimetype": "text/x-python",
   "name": "python",
   "nbconvert_exporter": "python",
   "pygments_lexer": "ipython3",
   "version": "3.9.7"
  }
 },
 "nbformat": 4,
 "nbformat_minor": 5
}
