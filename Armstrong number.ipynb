{
 "cells": [
  {
   "cell_type": "markdown",
   "id": "9596e58f",
   "metadata": {},
   "source": [
    "# Armstrong number"
   ]
  },
  {
   "cell_type": "code",
   "execution_count": 1,
   "id": "7a3583a8",
   "metadata": {},
   "outputs": [
    {
     "name": "stdout",
     "output_type": "stream",
     "text": [
      "enter a number:100\n",
      "enter a number:200\n",
      "Armstrong numbers are:\n",
      "125\n",
      "153\n",
      "Total of 2 armstrong numbers\n"
     ]
    }
   ],
   "source": [
    "#for upto 5 digits number can check Armstrong\n",
    "\n",
    "a=int(input(\"enter a number:\"))\n",
    "b=int(input(\"enter a number:\"))\n",
    "if b<=999:\n",
    "  count=0\n",
    "  print(\"Armstrong numbers are:\") \n",
    "  for no in range(a,b):\n",
    "    tno=no\n",
    "    sum=0\n",
    "    while tno>0:\n",
    "      d=tno%10\n",
    "      tno=tno//10\n",
    "      sum+=(d**3)\n",
    "      if sum==no:\n",
    "          count+=1\n",
    "          print(no)\n",
    "  print(\"Total of\",count,\"armstrong numbers\")\n",
    "elif b<9999:\n",
    "  count=0\n",
    "  print(\"Armstrong numbers are:\") \n",
    "  for no in range(a,b):\n",
    "    tno=no\n",
    "    sum=0\n",
    "    while tno>0:\n",
    "      d=tno%10\n",
    "      tno=tno//10\n",
    "      sum+=(d**4)\n",
    "      if sum==no:\n",
    "          count+=1\n",
    "          print(no)\n",
    "  print(\"Total of\",count,\"armstrong numbers\")\n",
    "else:\n",
    "  count=0\n",
    "  print(\"Armstrong numbers are:\") \n",
    "  for no in range(a,b):\n",
    "    tno=no\n",
    "    sum=0\n",
    "    while tno>0:\n",
    "      d=tno%10\n",
    "      tno=tno//10\n",
    "      sum+=(d**5)\n",
    "      if sum==no:\n",
    "          count+=1\n",
    "          print(no)\n",
    "  print(\"Total of\",count,\"armstrong numbers\")\n"
   ]
  },
  {
   "cell_type": "code",
   "execution_count": null,
   "id": "223b75c7",
   "metadata": {},
   "outputs": [],
   "source": []
  }
 ],
 "metadata": {
  "kernelspec": {
   "display_name": "Python 3 (ipykernel)",
   "language": "python",
   "name": "python3"
  },
  "language_info": {
   "codemirror_mode": {
    "name": "ipython",
    "version": 3
   },
   "file_extension": ".py",
   "mimetype": "text/x-python",
   "name": "python",
   "nbconvert_exporter": "python",
   "pygments_lexer": "ipython3",
   "version": "3.9.7"
  }
 },
 "nbformat": 4,
 "nbformat_minor": 5
}
