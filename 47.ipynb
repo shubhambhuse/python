{
 "cells": [
  {
   "cell_type": "markdown",
   "id": "f5a10280",
   "metadata": {},
   "source": [
    "### 1. Write a Python program find a list of integers with exactly two occurrences of nineteen and at least three occurrences of five."
   ]
  },
  {
   "cell_type": "code",
   "execution_count": 16,
   "id": "13b6ad9d",
   "metadata": {},
   "outputs": [
    {
     "name": "stdout",
     "output_type": "stream",
     "text": [
      "19\n",
      "19\n",
      "5\n",
      "5\n",
      "5\n",
      "\n",
      "List [19, 19, 5, 5, 5]\n",
      "True\n"
     ]
    }
   ],
   "source": [
    "listA = []\n",
    "while True:\n",
    "  a=input('')\n",
    "  if a=='':\n",
    "    break\n",
    "  listA.append(int(a))\n",
    "print(\"List\",listA)\n",
    "if listA.count(19)==2 and listA.count(5)>=3:\n",
    "  print(\"True\")\n",
    "else:\n",
    "  print(\"False\")"
   ]
  },
  {
   "cell_type": "markdown",
   "id": "fd1e9d61",
   "metadata": {},
   "source": [
    "###  2. Write a Python program that accept a list of integers and check the length and the fifth element. Return true if the length of the list is 8 and fifth element occurs thrice in the said list"
   ]
  },
  {
   "cell_type": "code",
   "execution_count": 7,
   "id": "27fe5007",
   "metadata": {},
   "outputs": [
    {
     "name": "stdout",
     "output_type": "stream",
     "text": [
      "Enter the number: 0\n",
      "len of list 1\n",
      "Enter the number: 1\n",
      "len of list 2\n",
      "Enter the number: 2\n",
      "len of list 3\n",
      "Enter the number: 3\n",
      "len of list 4\n",
      "Enter the number: 5\n",
      "len of list 5\n",
      "Enter the number: 5\n",
      "len of list 6\n",
      "Enter the number: 5\n",
      "len of list 7\n",
      "Enter the number: 6\n",
      "len of list 8\n",
      "Enter the number: \n",
      "[0, 1, 2, 3, 5, 5, 5, 6]\n",
      "True\n"
     ]
    }
   ],
   "source": [
    "c=[]\n",
    "count=0\n",
    "while True:\n",
    "    l1= (input('Enter the number: '))\n",
    "    if l1==\"\":\n",
    "        break\n",
    "    count+=1\n",
    "    c.append(int(l1))\n",
    "    print(\"len of list\",count)\n",
    "print(c)        \n",
    "if len(c)==8:\n",
    "    count=0\n",
    "    for i in range(3,len(c)-2):\n",
    "        c[i]==c[5]\n",
    "        count+=1\n",
    "    if count==3:\n",
    "        print(\"True\")\n",
    "    else:\n",
    "        print(\"False\")\n"
   ]
  },
  {
   "cell_type": "code",
   "execution_count": null,
   "id": "63d50460",
   "metadata": {},
   "outputs": [],
   "source": []
  },
  {
   "cell_type": "markdown",
   "id": "607fc35c",
   "metadata": {},
   "source": [
    "### Q.3 Write a Python program to split a string of words separated by commas and spaces into two lists, words and separators. \n"
   ]
  },
  {
   "cell_type": "code",
   "execution_count": 39,
   "id": "9e53656d",
   "metadata": {},
   "outputs": [
    {
     "name": "stdout",
     "output_type": "stream",
     "text": [
      "[['The', 'dance', 'held', 'in', 'the', 'school', 'gym', 'ended', 'at', 'midnight'], [' ', ',', ' ', ' ', ' ', ' ', ',', ' ', ' ']]\n"
     ]
    }
   ],
   "source": [
    "s = \"The dance,held in the school gym,ended at midnight\"\n",
    "l = [ ]\n",
    "\n",
    "for i in s:\n",
    "\n",
    "    if ',' in i:\n",
    "        l.append(',')\n",
    "    elif \" \" in i:\n",
    "        l.append(\" \")\n",
    "a=s.split(\" \")\n",
    "l2 = [ ]\n",
    "for i in a:\n",
    "    if \",\" in i:\n",
    "        c=i.split(\",\")\n",
    "        l2.extend(c)\n",
    "    else:\n",
    "        c= i.split()\n",
    "        l2.extend(c)\n",
    "l3=[]\n",
    "l3.append(l2)\n",
    "l3.append(l)\n",
    "print(l3)\n"
   ]
  },
  {
   "cell_type": "markdown",
   "id": "3e0bdfca",
   "metadata": {},
   "source": [
    "###  Q.4 Write a Python program to find missing numbers from a list."
   ]
  },
  {
   "cell_type": "code",
   "execution_count": 3,
   "id": "69f3d63b",
   "metadata": {},
   "outputs": [
    {
     "name": "stdout",
     "output_type": "stream",
     "text": [
      "list= [1, 2, 3, 4, 6, 7, 10, 11, 13]\n",
      "missing numbers= [5, 8, 9, 12]\n"
     ]
    }
   ],
   "source": [
    "l=[1,2,3,4,6,7,10,11,13]\n",
    "l2=[*range (1,l[-1]+1)]\n",
    "miss=[]\n",
    "\n",
    "for i in l2:\n",
    "    if i not in l:\n",
    "        miss.append(i)\n",
    "print(\"list=\",l)\n",
    "print(\"missing numbers=\",miss)\n"
   ]
  },
  {
   "cell_type": "markdown",
   "id": "5b626e5f",
   "metadata": {},
   "source": [
    "### Q.5 Write a Python program to push all zeros to the end of a list."
   ]
  },
  {
   "cell_type": "code",
   "execution_count": 55,
   "id": "d73bca15",
   "metadata": {},
   "outputs": [
    {
     "name": "stdout",
     "output_type": "stream",
     "text": [
      "[2, 3, 4, 6, 7, 10, 0, 0]\n"
     ]
    }
   ],
   "source": [
    "l1= [0,2,0,3,4,6,7,10]\n",
    "l3=[]\n",
    "for i in l1:\n",
    "    if i!=0:\n",
    "        l3.append(i)\n",
    "for j in l1:\n",
    "    if j==0:\n",
    "        l3.append(j)\n",
    "        \n",
    "print(l3)"
   ]
  },
  {
   "cell_type": "code",
   "execution_count": null,
   "id": "51f15115",
   "metadata": {},
   "outputs": [],
   "source": []
  },
  {
   "cell_type": "code",
   "execution_count": null,
   "id": "7d58d069",
   "metadata": {},
   "outputs": [],
   "source": []
  }
 ],
 "metadata": {
  "kernelspec": {
   "display_name": "Python 3 (ipykernel)",
   "language": "python",
   "name": "python3"
  },
  "language_info": {
   "codemirror_mode": {
    "name": "ipython",
    "version": 3
   },
   "file_extension": ".py",
   "mimetype": "text/x-python",
   "name": "python",
   "nbconvert_exporter": "python",
   "pygments_lexer": "ipython3",
   "version": "3.9.7"
  }
 },
 "nbformat": 4,
 "nbformat_minor": 5
}
