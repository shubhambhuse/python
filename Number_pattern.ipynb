{
 "cells": [
  {
   "cell_type": "markdown",
   "id": "ce583411",
   "metadata": {},
   "source": [
    "# Number Pattern"
   ]
  },
  {
   "cell_type": "markdown",
   "id": "59759adc",
   "metadata": {},
   "source": [
    "### Pattern 1"
   ]
  },
  {
   "cell_type": "code",
   "execution_count": 1,
   "id": "48edb5d9",
   "metadata": {},
   "outputs": [
    {
     "name": "stdout",
     "output_type": "stream",
     "text": [
      "1\n",
      "12\n",
      "123\n",
      "1234\n",
      "12345\n"
     ]
    }
   ],
   "source": [
    "for i in range(1,6,):\n",
    "    for j in range(1,i+1):\n",
    "        print(j,end=\"\")\n",
    "    print()"
   ]
  },
  {
   "cell_type": "markdown",
   "id": "45525df0",
   "metadata": {},
   "source": [
    "### Pattern 2"
   ]
  },
  {
   "cell_type": "code",
   "execution_count": 59,
   "id": "9d7ee7ff",
   "metadata": {},
   "outputs": [
    {
     "name": "stdout",
     "output_type": "stream",
     "text": [
      "1\n",
      "22\n",
      "333\n",
      "4444\n",
      "55555\n"
     ]
    }
   ],
   "source": [
    "for i in range(1,6):\n",
    "    for j in range(i):\n",
    "        print(i,end=\"\")\n",
    "    print()"
   ]
  },
  {
   "cell_type": "markdown",
   "id": "9dc02f75",
   "metadata": {},
   "source": [
    "### Pattern 3"
   ]
  },
  {
   "cell_type": "code",
   "execution_count": 38,
   "id": "f1512616",
   "metadata": {},
   "outputs": [
    {
     "name": "stdout",
     "output_type": "stream",
     "text": [
      "1\n",
      "12\n",
      "123\n",
      "1234\n",
      "12345\n",
      "1234\n",
      "123\n",
      "12\n",
      "1\n"
     ]
    }
   ],
   "source": [
    "for i in range(1,6,):\n",
    "    for j in range(1,i+1):\n",
    "        print(j,end=\"\")\n",
    "    print()\n",
    "for i in range(5,1,-1):\n",
    "    for j in range(1,i):\n",
    "        print(j,end=\"\")\n",
    "    print()"
   ]
  },
  {
   "cell_type": "markdown",
   "id": "46f08978",
   "metadata": {},
   "source": [
    "### Pattern 4"
   ]
  },
  {
   "cell_type": "code",
   "execution_count": 40,
   "id": "8c1c6c7f",
   "metadata": {},
   "outputs": [
    {
     "name": "stdout",
     "output_type": "stream",
     "text": [
      "12345\n",
      "1234\n",
      "123\n",
      "12\n",
      "1\n",
      "1\n",
      "12\n",
      "123\n",
      "1234\n",
      "12345\n"
     ]
    }
   ],
   "source": [
    "for i in range(6,1,-1):\n",
    "    for j in range(1,i):\n",
    "        print(j,end=\"\")\n",
    "    print()\n",
    "for i in range(1,6,):\n",
    "    for j in range(1,i+1):\n",
    "        print(j,end=\"\")\n",
    "    print()"
   ]
  },
  {
   "cell_type": "markdown",
   "id": "0005831e",
   "metadata": {},
   "source": [
    "### Pattern 5"
   ]
  },
  {
   "cell_type": "code",
   "execution_count": 41,
   "id": "c089d504",
   "metadata": {},
   "outputs": [
    {
     "name": "stdout",
     "output_type": "stream",
     "text": [
      "54321\n",
      "4321\n",
      "321\n",
      "21\n",
      "1\n",
      "1\n",
      "21\n",
      "321\n",
      "4321\n",
      "54321\n"
     ]
    }
   ],
   "source": [
    "for i in range(5,0,-1):\n",
    "    for j in range(i,0,-1):\n",
    "        print(j,end=\"\")\n",
    "    print()\n",
    "for i in range(1,6):\n",
    "    for j in range(i,0,-1):\n",
    "        print(j,end=\"\")\n",
    "    print()"
   ]
  },
  {
   "cell_type": "markdown",
   "id": "a34208c4",
   "metadata": {},
   "source": [
    "### Pattern 6"
   ]
  },
  {
   "cell_type": "code",
   "execution_count": 16,
   "id": "da82e28f",
   "metadata": {},
   "outputs": [
    {
     "name": "stdout",
     "output_type": "stream",
     "text": [
      "    1 \n",
      "   1 2 \n",
      "  1 2 3 \n",
      " 1 2 3 4 \n",
      "1 2 3 4 5 \n"
     ]
    }
   ],
   "source": [
    "for i in range(1,6):\n",
    "    print(\" \"*(5-i),end='')\n",
    "    for j in range(1,i+1):\n",
    "        print(j,end=' ')\n",
    "    print()"
   ]
  },
  {
   "cell_type": "code",
   "execution_count": null,
   "id": "10691f0d",
   "metadata": {},
   "outputs": [],
   "source": []
  },
  {
   "cell_type": "markdown",
   "id": "01d5244e",
   "metadata": {},
   "source": [
    "### Pattern 7"
   ]
  },
  {
   "cell_type": "code",
   "execution_count": 49,
   "id": "020004ed",
   "metadata": {},
   "outputs": [
    {
     "name": "stdout",
     "output_type": "stream",
     "text": [
      "5 4 3 2 1 \n",
      "5 4 3 2 \n",
      "5 4 3 \n",
      "5 4 \n",
      "5 \n"
     ]
    }
   ],
   "source": [
    "for i in range(1,6,):\n",
    "    for j in range(5,i-1,-1):\n",
    "        print(j,end=\" \")\n",
    "    print() "
   ]
  },
  {
   "cell_type": "markdown",
   "id": "b0885152",
   "metadata": {},
   "source": [
    "### Pattern 8"
   ]
  },
  {
   "cell_type": "code",
   "execution_count": 48,
   "id": "6da44971",
   "metadata": {},
   "outputs": [
    {
     "name": "stdout",
     "output_type": "stream",
     "text": [
      "5 \n",
      "5 4 \n",
      "5 4 3 \n",
      "5 4 3 2 \n",
      "5 4 3 2 1 \n"
     ]
    }
   ],
   "source": [
    "for i in range(5,0,-1):\n",
    "    for j in range(5,i-1,-1):\n",
    "        print(j,end=\" \")\n",
    "    print()"
   ]
  },
  {
   "cell_type": "markdown",
   "id": "b0e022f2",
   "metadata": {},
   "source": [
    "### Pattern 9"
   ]
  },
  {
   "cell_type": "code",
   "execution_count": 50,
   "id": "0a0892a8",
   "metadata": {},
   "outputs": [
    {
     "name": "stdout",
     "output_type": "stream",
     "text": [
      "1 2 3 4 5 \n",
      "1 2 3 4 \n",
      "1 2 3 \n",
      "1 2 \n",
      "1 \n"
     ]
    }
   ],
   "source": [
    "for i in range(6,1,-1):\n",
    "    for j in range(1,i):\n",
    "        print(j,end=\" \")\n",
    "    print()"
   ]
  },
  {
   "cell_type": "markdown",
   "id": "87b7c562",
   "metadata": {},
   "source": [
    "### Pattern 10"
   ]
  },
  {
   "cell_type": "code",
   "execution_count": 1,
   "id": "ace3fa27",
   "metadata": {},
   "outputs": [
    {
     "name": "stdout",
     "output_type": "stream",
     "text": [
      "enter a row:5\n",
      "1 \n",
      "2 3 \n",
      "4 5 6 \n",
      "7 8 9 10 \n",
      "11 12 13 14 15 \n"
     ]
    }
   ],
   "source": [
    "'''n=int(input('enter a number:'))\n",
    "k=1\n",
    "i=1\n",
    "\n",
    "while i<n:\n",
    "    j=1\n",
    "    while j<=i and k<=n:\n",
    "        print(k,end=' ')\n",
    "        k+=1\n",
    "        j+=1\n",
    "        \n",
    "    i+=1\n",
    "    print('')'''\n",
    "n=int(input(\"enter a row:\"))\n",
    "k=1\n",
    "for i in range(1,n+1):\n",
    "    for j in range(1,i+1):\n",
    "        print(k,end=' ')\n",
    "        k+=1\n",
    "    print()"
   ]
  },
  {
   "cell_type": "code",
   "execution_count": 3,
   "id": "d2a62477",
   "metadata": {},
   "outputs": [
    {
     "name": "stdout",
     "output_type": "stream",
     "text": [
      "enter a row:5\n",
      "1 \n",
      "0 1 \n",
      "0 1 0 \n",
      "1 0 1 0 \n",
      "1 0 1 0 1 \n"
     ]
    }
   ],
   "source": [
    "n=int(input(\"enter a row:\"))\n",
    "k=1\n",
    "for i in range(1,n+1):\n",
    "    for j in range(1,i+1):\n",
    "        print(k%2,end=' ')\n",
    "        k+=1\n",
    "    print()"
   ]
  },
  {
   "cell_type": "markdown",
   "id": "5a13de4e",
   "metadata": {},
   "source": [
    "### Pattern 11"
   ]
  },
  {
   "cell_type": "code",
   "execution_count": 9,
   "id": "d7f0b774",
   "metadata": {},
   "outputs": [
    {
     "name": "stdout",
     "output_type": "stream",
     "text": [
      "1\n",
      "21\n",
      "321\n",
      "4321\n",
      "54321\n"
     ]
    }
   ],
   "source": [
    "for i in range(1,6):\n",
    "    for j in range(i,0,-1):\n",
    "        print(j,end=\"\")\n",
    "    print()"
   ]
  },
  {
   "cell_type": "markdown",
   "id": "7396d2e0",
   "metadata": {},
   "source": [
    "### Pattern 12"
   ]
  },
  {
   "cell_type": "code",
   "execution_count": 87,
   "id": "01c6cc4a",
   "metadata": {},
   "outputs": [
    {
     "name": "stdout",
     "output_type": "stream",
     "text": [
      "1 \n",
      "2 7 \n",
      "3 8 13 \n",
      "4 9 14 19 \n",
      "5 10 15 20 25 \n"
     ]
    }
   ],
   "source": [
    "for i in range(1,6):\n",
    "    for j in range(1,i+1):\n",
    "            print(i,end=\" \")\n",
    "            i+=5\n",
    "    print(\"\")"
   ]
  },
  {
   "cell_type": "markdown",
   "id": "12ba217a",
   "metadata": {},
   "source": [
    "### Pattern 13"
   ]
  },
  {
   "cell_type": "code",
   "execution_count": 2,
   "id": "7b3dddb0",
   "metadata": {},
   "outputs": [
    {
     "name": "stdout",
     "output_type": "stream",
     "text": [
      "Enter the no. of rows: 5\n",
      "    1  \n",
      "   1 1  \n",
      "  1 2 1  \n",
      " 1 3 3 1  \n",
      "1 4 6 4 1  \n"
     ]
    }
   ],
   "source": [
    "#n=int(input(\"Enter a no: \"))\n",
    "#for i in range(0,n):#to print rows\n",
    "#    for a in range(1,n-i+1):\n",
    "#        print(\" \",end=\"\")\n",
    "    #for j in range(1,i+1):#to print coloumns\n",
    "#    print(11**i, end=\" \")\n",
    "#    print(\" \")\n",
    "n=int(input(\"Enter the no. of rows: \"))\n",
    "for i in range(1, n + 1): \n",
    "    \n",
    "    c = 1      \n",
    "    print(\" \"*(n-i), end=\"\") \n",
    "    for j in range(1, i + 1): \n",
    "    \n",
    "        print(c, end = \" \")\n",
    "        c = int(c * (i - j) / j)\n",
    "    print(\" \")"
   ]
  },
  {
   "cell_type": "markdown",
   "id": "a4f84c8c",
   "metadata": {},
   "source": [
    "### Pattern 14"
   ]
  },
  {
   "cell_type": "code",
   "execution_count": 103,
   "id": "3b8aa3cc",
   "metadata": {},
   "outputs": [
    {
     "name": "stdout",
     "output_type": "stream",
     "text": [
      "1 \n",
      "1 2 1 \n",
      "1 2 3 2 1 \n",
      "1 2 3 4 3 2 1 \n",
      "1 2 3 4 5 4 3 2 1 \n"
     ]
    }
   ],
   "source": [
    "for i in range (1,6):\n",
    "    for j in range(1,i+1):\n",
    "        print(j,end=\" \")\n",
    "    for j in range(i-1,0,-1):\n",
    "        print(j,end=\" \")\n",
    "    print()"
   ]
  },
  {
   "cell_type": "markdown",
   "id": "32a6b957",
   "metadata": {},
   "source": [
    "### Pattern 15"
   ]
  },
  {
   "cell_type": "code",
   "execution_count": 101,
   "id": "a24d991c",
   "metadata": {},
   "outputs": [
    {
     "name": "stdout",
     "output_type": "stream",
     "text": [
      "1 2 3 4 5 \n",
      " 1 2 3 4 \n",
      "  1 2 3 \n",
      "   1 2 \n",
      "    1 \n"
     ]
    }
   ],
   "source": [
    "for i in range(5,0,-1):\n",
    "    print(\" \"*(5-i),end='')\n",
    "    for j in range(1,i+1):\n",
    "        print(j,end=' ')\n",
    "    print()"
   ]
  },
  {
   "cell_type": "markdown",
   "id": "550813ce",
   "metadata": {},
   "source": [
    "### Pattern 16"
   ]
  },
  {
   "cell_type": "code",
   "execution_count": 104,
   "id": "7393324c",
   "metadata": {},
   "outputs": [
    {
     "name": "stdout",
     "output_type": "stream",
     "text": [
      "    1 \n",
      "   1 2 \n",
      "  1 2 3 \n",
      " 1 2 3 4 \n",
      "1 2 3 4 5 \n",
      " 1 2 3 4 \n",
      "  1 2 3 \n",
      "   1 2 \n",
      "    1 \n"
     ]
    }
   ],
   "source": [
    "for i in range(1,6):\n",
    "    print(\" \"*(5-i),end='')\n",
    "    for j in range(1,i+1):\n",
    "        print(j,end=' ')\n",
    "    print()\n",
    "for i in range(4,0,-1):\n",
    "    print(\" \"*(5-i),end='')\n",
    "    for j in range(1,i+1):\n",
    "        print(j,end=' ')\n",
    "    print()"
   ]
  },
  {
   "cell_type": "markdown",
   "id": "24970760",
   "metadata": {},
   "source": [
    "### Pattern 17"
   ]
  },
  {
   "cell_type": "code",
   "execution_count": 3,
   "id": "69693306",
   "metadata": {},
   "outputs": [
    {
     "name": "stdout",
     "output_type": "stream",
     "text": [
      " 1 2 3 4 5 \n",
      "  2 3 4 5 \n",
      "   3 4 5 \n",
      "    4 5 \n",
      "     5 \n",
      "     5 \n",
      "    4 5 \n",
      "   3 4 5 \n",
      "  2 3 4 5 \n",
      " 1 2 3 4 5 \n"
     ]
    }
   ],
   "source": [
    "for i in range(1,6,):\n",
    "    print(\" \"*(i),end='')\n",
    "    for j in range(i,6,):\n",
    "        print(j,end=\" \")\n",
    "    print()\n",
    "for i in range(6,1,-1):\n",
    "    print(\" \"*(i-1),end='')\n",
    "    for j in range(i-1,6):\n",
    "        print(j,end=\" \")\n",
    "    print()"
   ]
  },
  {
   "cell_type": "markdown",
   "id": "5784181e",
   "metadata": {},
   "source": [
    "### Pattern 18"
   ]
  },
  {
   "cell_type": "code",
   "execution_count": 94,
   "id": "2cd01dc2",
   "metadata": {},
   "outputs": [
    {
     "name": "stdout",
     "output_type": "stream",
     "text": [
      "1 2 3 4 5 \n",
      " 2 3 4 5 \n",
      "  3 4 5 \n",
      "   4 5 \n",
      "    5 \n",
      "    5 \n",
      "   4 5 \n",
      "  3 4 5 \n",
      " 2 3 4 5 \n",
      "1 2 3 4 5 \n"
     ]
    }
   ],
   "source": [
    "for i in range(1,6):\n",
    "    print(\" \"*(i-1),end='')\n",
    "    for j in range(i,6):\n",
    "        print(j,end=\" \")\n",
    "    print()\n",
    "for i in range(5,0,-1):\n",
    "    print(\" \"*(i-1),end='')\n",
    "    for j in range(i,6,1):\n",
    "        print(j,end=\" \")\n",
    "    print()"
   ]
  },
  {
   "cell_type": "markdown",
   "id": "4072d56a",
   "metadata": {},
   "source": [
    "### Pattern 19"
   ]
  },
  {
   "cell_type": "code",
   "execution_count": 116,
   "id": "3e1b0821",
   "metadata": {},
   "outputs": [
    {
     "name": "stdout",
     "output_type": "stream",
     "text": [
      "     5 \n",
      "    4 5 \n",
      "   3 4 5 \n",
      "  2 3 4 5 \n",
      " 1 2 3 4 5 \n"
     ]
    }
   ],
   "source": [
    "for i in range(6,1,-1):\n",
    "    print(\" \"*(i-1),end='')\n",
    "    for j in range(i-1,6,1):\n",
    "        print(j,end=\" \")\n",
    "    print()"
   ]
  },
  {
   "cell_type": "markdown",
   "id": "ef308ee0",
   "metadata": {},
   "source": [
    "### Pattern 20"
   ]
  },
  {
   "cell_type": "code",
   "execution_count": 55,
   "id": "fbead73f",
   "metadata": {},
   "outputs": [
    {
     "name": "stdout",
     "output_type": "stream",
     "text": [
      "        1 \n",
      "      1 2 1 \n",
      "    1 2 3 2 1 \n",
      "  1 2 3 4 3 2 1 \n",
      "1 2 3 4 5 4 3 2 1 \n"
     ]
    }
   ],
   "source": [
    "for i in range (1,6):\n",
    "    print(\"  \"*(5-i),end='')\n",
    "    for j in range(1,i+1):\n",
    "        print(j,end=\" \")\n",
    "    for j in range(i-1,0,-1):\n",
    "        print(j,end=\" \")\n",
    "    print()"
   ]
  },
  {
   "cell_type": "code",
   "execution_count": null,
   "id": "c8510812",
   "metadata": {},
   "outputs": [],
   "source": [
    "for i in range (1,6):\n",
    "    print(\"  \"*(5-i),end='')\n",
    "    for j in range(1,i+1):\n",
    "        print(j,end=\" \")\n",
    "    for j in range(i-1,0,-1):\n",
    "        print(j,end=\" \")\n",
    "    print()"
   ]
  },
  {
   "cell_type": "markdown",
   "id": "4b571b13",
   "metadata": {},
   "source": [
    "### Pattern 21"
   ]
  },
  {
   "cell_type": "code",
   "execution_count": 95,
   "id": "7ec5d507",
   "metadata": {},
   "outputs": [
    {
     "name": "stdout",
     "output_type": "stream",
     "text": [
      "1\n",
      "10\n",
      "101\n",
      "1010\n",
      "10101\n"
     ]
    }
   ],
   "source": [
    "for i in range(1,6,):\n",
    "    for j in range(1,i+1):\n",
    "        print(j%2,end=\"\")\n",
    "    print()"
   ]
  },
  {
   "cell_type": "markdown",
   "id": "19385c49",
   "metadata": {},
   "source": [
    "### Pattern 22"
   ]
  },
  {
   "cell_type": "code",
   "execution_count": 26,
   "id": "ccbbbbd7",
   "metadata": {},
   "outputs": [
    {
     "name": "stdout",
     "output_type": "stream",
     "text": [
      "10000\n",
      "02000\n",
      "00300\n",
      "00040\n",
      "00005\n"
     ]
    }
   ],
   "source": [
    "for i in range(1,6,):\n",
    "    if i>=2:\n",
    "        for k in range(1,i):\n",
    "            print(\"0\",end=\"\")\n",
    "    for j in range(1):\n",
    "        print(i,end=\"\")\n",
    "    \n",
    "    for j in range(4,i-1,-1):\n",
    "        print(\"0\",end=\"\")\n",
    "    print()\n",
    "'''for i in range(1,6):\n",
    "    for j in range(1,6):\n",
    "        if i==j:\n",
    "            print(j,end=\"\")\n",
    "        else:\n",
    "            print(0,end=\"\")\n",
    "\n",
    "    print()'''\n"
   ]
  },
  {
   "cell_type": "markdown",
   "id": "df682292",
   "metadata": {},
   "source": [
    "### Pattern 23"
   ]
  },
  {
   "cell_type": "code",
   "execution_count": 64,
   "id": "ec213c66",
   "metadata": {},
   "outputs": [
    {
     "name": "stdout",
     "output_type": "stream",
     "text": [
      "11111\n",
      "11122\n",
      "11333\n",
      "14444\n",
      "55555\n"
     ]
    }
   ],
   "source": [
    "for i in range(1,6):\n",
    "    print(\"1\"*(5-i),end='')\n",
    "    for j in range(i):\n",
    "        print(i,end=\"\")\n",
    "    print()"
   ]
  },
  {
   "cell_type": "markdown",
   "id": "07082772",
   "metadata": {},
   "source": [
    "### Pattern 24"
   ]
  },
  {
   "cell_type": "code",
   "execution_count": 42,
   "id": "6d6337a9",
   "metadata": {},
   "outputs": [
    {
     "name": "stdout",
     "output_type": "stream",
     "text": [
      "123454321\n",
      "2345432\n",
      "34543\n",
      "454\n",
      "5\n"
     ]
    }
   ],
   "source": [
    "for i in range(1,6,):\n",
    "    for j in range(i,5,):\n",
    "        print(j,end=\"\")\n",
    "    for j in range(5,i-1,-1):\n",
    "            print(j,end=\"\")\n",
    "    print()"
   ]
  },
  {
   "cell_type": "markdown",
   "id": "083b968f",
   "metadata": {},
   "source": [
    "### Pattern 25"
   ]
  },
  {
   "cell_type": "code",
   "execution_count": 44,
   "id": "a956c354",
   "metadata": {},
   "outputs": [
    {
     "name": "stdout",
     "output_type": "stream",
     "text": [
      "    1 \n",
      "   2 2 \n",
      "  3 3 3 \n",
      " 4 4 4 4 \n",
      "5 5 5 5 5 \n"
     ]
    }
   ],
   "source": [
    "for i in range(1,6):\n",
    "    print(\" \"*(5-i),end='')\n",
    "    for j in range(i):\n",
    "        print(i,end=\" \")\n",
    "    print()"
   ]
  },
  {
   "cell_type": "markdown",
   "id": "e934c772",
   "metadata": {},
   "source": [
    "### Pattern 26"
   ]
  },
  {
   "cell_type": "code",
   "execution_count": 50,
   "id": "b134e8ef",
   "metadata": {},
   "outputs": [
    {
     "name": "stdout",
     "output_type": "stream",
     "text": [
      "5 5 5 5 5 \n",
      "4 5 5 5 5 \n",
      "3 4 5 5 5 \n",
      "2 3 4 5 5 \n",
      "1 2 3 4 5 \n"
     ]
    }
   ],
   "source": [
    "for i in range(6,1,-1):\n",
    "    for j in range(i-1,6,1):\n",
    "        print(j,end=\" \")\n",
    "    for j in range(1,i-1):\n",
    "        print(\"5\",end=\" \")\n",
    "    print()"
   ]
  },
  {
   "cell_type": "markdown",
   "id": "61492844",
   "metadata": {},
   "source": [
    "### Pattern 27"
   ]
  },
  {
   "cell_type": "code",
   "execution_count": 56,
   "id": "194c1741",
   "metadata": {},
   "outputs": [
    {
     "name": "stdout",
     "output_type": "stream",
     "text": [
      "1 \n",
      "2 6 \n",
      "3 7 11 \n",
      "4 8 12 16 \n",
      "5 9 13 17 21 \n"
     ]
    }
   ],
   "source": [
    "for i in range(1,6):\n",
    "    for j in range(1,i+1):\n",
    "            print(i,end=\" \")\n",
    "            i+=4\n",
    "    print(\"\")"
   ]
  },
  {
   "cell_type": "markdown",
   "id": "00640a59",
   "metadata": {},
   "source": [
    "### Pattern 28"
   ]
  },
  {
   "cell_type": "code",
   "execution_count": 78,
   "id": "93541a99",
   "metadata": {},
   "outputs": [
    {
     "name": "stdout",
     "output_type": "stream",
     "text": [
      "1 \n",
      "2 4 \n",
      "3 6 9 \n",
      "4 8 12 16 \n",
      "5 10 15 20 25 \n",
      "6 12 18 24 \n",
      "7 14 21 \n",
      "8 16 \n",
      "9 \n"
     ]
    }
   ],
   "source": [
    "for i in range(1,10):\n",
    "    \n",
    "    if i<=5:\n",
    "        for j in range(1,i+1):\n",
    "            a=j*i\n",
    "            print(a,end=\" \")\n",
    "        print(\"\")\n",
    "    elif i==6:\n",
    "            for j in range(1,i-1):\n",
    "                a=j*i\n",
    "                print(a,end=\" \")\n",
    "            print(\"\")\n",
    "    elif i==7:\n",
    "        for j in range(1,i-3):\n",
    "                a=j*i\n",
    "                print(a,end=\" \")\n",
    "        print(\"\")\n",
    "    elif i==8:\n",
    "        for j in range(1,i-5):\n",
    "                a=j*i\n",
    "                print(a,end=\" \")\n",
    "        print(\"\") \n",
    "    elif i==9:\n",
    "        for j in range(1,i-7):\n",
    "                a=j*i\n",
    "                print(a,end=\" \")\n",
    "        print(\"\") "
   ]
  },
  {
   "cell_type": "markdown",
   "id": "1b2a9f62",
   "metadata": {},
   "source": [
    "### Pattern 29"
   ]
  },
  {
   "cell_type": "code",
   "execution_count": null,
   "id": "ae7c54bf",
   "metadata": {},
   "outputs": [],
   "source": []
  },
  {
   "cell_type": "markdown",
   "id": "022eaeab",
   "metadata": {},
   "source": [
    "### Pattern 30"
   ]
  },
  {
   "cell_type": "code",
   "execution_count": null,
   "id": "263b6b1e",
   "metadata": {},
   "outputs": [],
   "source": []
  },
  {
   "cell_type": "markdown",
   "id": "dd142c21",
   "metadata": {},
   "source": [
    "### Pattern 48"
   ]
  },
  {
   "cell_type": "code",
   "execution_count": 33,
   "id": "e5f8b834",
   "metadata": {},
   "outputs": [
    {
     "name": "stdout",
     "output_type": "stream",
     "text": [
      "5 \n",
      "4 5 \n",
      "3 4 5 \n",
      "2 3 4 5 \n",
      "1 2 3 4 5 \n"
     ]
    }
   ],
   "source": [
    "for i in range(5,0,-1):\n",
    "    for j in range(i,6,1):\n",
    "        print(j,end=\" \")\n",
    "    print()"
   ]
  },
  {
   "cell_type": "code",
   "execution_count": null,
   "id": "5d7fa025",
   "metadata": {},
   "outputs": [],
   "source": []
  }
 ],
 "metadata": {
  "kernelspec": {
   "display_name": "Python 3 (ipykernel)",
   "language": "python",
   "name": "python3"
  },
  "language_info": {
   "codemirror_mode": {
    "name": "ipython",
    "version": 3
   },
   "file_extension": ".py",
   "mimetype": "text/x-python",
   "name": "python",
   "nbconvert_exporter": "python",
   "pygments_lexer": "ipython3",
   "version": "3.9.7"
  }
 },
 "nbformat": 4,
 "nbformat_minor": 5
}
