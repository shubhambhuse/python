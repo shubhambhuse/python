{
 "cells": [
  {
   "cell_type": "markdown",
   "id": "df62d12e",
   "metadata": {},
   "source": [
    "## Fibonacci series"
   ]
  },
  {
   "cell_type": "code",
   "execution_count": null,
   "id": "97556cfe",
   "metadata": {},
   "outputs": [],
   "source": [
    "\n",
    "\n",
    "n= int(input(\"what terms till do you want? \"))\n",
    "\n",
    "n1=0\n",
    "n2=1\n",
    "count = 0\n",
    "list=[]\n",
    "\n",
    "if n <= 0:\n",
    "   print(\"Please enter a positive integer\")\n",
    "elif n == 1:\n",
    "   print(\"Fibonacci series\",n,\":\")\n",
    "   print(n1)\n",
    "else:\n",
    "   print(\"Fibonacci series:\",end=\"\")\n",
    "   while count < n:\n",
    "       list.append(n1)\n",
    "       nth = n1 + n2\n",
    "       n1 = n2\n",
    "       n2 = nth\n",
    "       count += 1\n",
    "print(list)\n",
    "\n",
    "f= int(input(\"find value in fibbonacci series: \"))\n",
    "if f in list:\n",
    "  print(f,\": is present in fibbonacci series\")\n",
    "else:\n",
    "  print(f,\": is not present in fibbonacci series\")"
   ]
  },
  {
   "cell_type": "code",
   "execution_count": null,
   "id": "c8ecc15a",
   "metadata": {},
   "outputs": [],
   "source": []
  },
  {
   "cell_type": "markdown",
   "id": "0dee6805",
   "metadata": {},
   "source": [
    "# Palindrome series"
   ]
  },
  {
   "cell_type": "code",
   "execution_count": 1,
   "id": "6e68a2c8",
   "metadata": {},
   "outputs": [
    {
     "name": "stdout",
     "output_type": "stream",
     "text": [
      "enter a number:131\n",
      "131\n",
      "131 is palindrome number\n"
     ]
    }
   ],
   "source": [
    "#palindrome\n",
    "\n",
    "a=int(input(\"enter a number:\"))\n",
    "temp=a\n",
    "rev=0\n",
    "while a>0:\n",
    "  rem=a%10\n",
    "  rev=(rev*10)+rem\n",
    "  a=a//10\n",
    "print(rev)\n",
    "\n",
    "if temp==rev:\n",
    "  print(temp,\"is palindrome number\")\n",
    "else:\n",
    "  print(temp,\"is not palindrome number\")"
   ]
  },
  {
   "cell_type": "code",
   "execution_count": null,
   "id": "75169879",
   "metadata": {},
   "outputs": [],
   "source": []
  },
  {
   "cell_type": "markdown",
   "id": "ecd5d09b",
   "metadata": {},
   "source": [
    "# user palindrome "
   ]
  },
  {
   "cell_type": "code",
   "execution_count": 2,
   "id": "2a714c74",
   "metadata": {},
   "outputs": [
    {
     "name": "stdout",
     "output_type": "stream",
     "text": [
      "enter a number:100\n",
      "enter a number:1000\n",
      "101 is palindrome number\n",
      "111 is palindrome number\n",
      "121 is palindrome number\n",
      "131 is palindrome number\n",
      "141 is palindrome number\n",
      "151 is palindrome number\n",
      "161 is palindrome number\n",
      "171 is palindrome number\n",
      "181 is palindrome number\n",
      "191 is palindrome number\n",
      "202 is palindrome number\n",
      "212 is palindrome number\n",
      "222 is palindrome number\n",
      "232 is palindrome number\n",
      "242 is palindrome number\n",
      "252 is palindrome number\n",
      "262 is palindrome number\n",
      "272 is palindrome number\n",
      "282 is palindrome number\n",
      "292 is palindrome number\n",
      "303 is palindrome number\n",
      "313 is palindrome number\n",
      "323 is palindrome number\n",
      "333 is palindrome number\n",
      "343 is palindrome number\n",
      "353 is palindrome number\n",
      "363 is palindrome number\n",
      "373 is palindrome number\n",
      "383 is palindrome number\n",
      "393 is palindrome number\n",
      "404 is palindrome number\n",
      "414 is palindrome number\n",
      "424 is palindrome number\n",
      "434 is palindrome number\n",
      "444 is palindrome number\n",
      "454 is palindrome number\n",
      "464 is palindrome number\n",
      "474 is palindrome number\n",
      "484 is palindrome number\n",
      "494 is palindrome number\n",
      "505 is palindrome number\n",
      "515 is palindrome number\n",
      "525 is palindrome number\n",
      "535 is palindrome number\n",
      "545 is palindrome number\n",
      "555 is palindrome number\n",
      "565 is palindrome number\n",
      "575 is palindrome number\n",
      "585 is palindrome number\n",
      "595 is palindrome number\n",
      "606 is palindrome number\n",
      "616 is palindrome number\n",
      "626 is palindrome number\n",
      "636 is palindrome number\n",
      "646 is palindrome number\n",
      "656 is palindrome number\n",
      "666 is palindrome number\n",
      "676 is palindrome number\n",
      "686 is palindrome number\n",
      "696 is palindrome number\n",
      "707 is palindrome number\n",
      "717 is palindrome number\n",
      "727 is palindrome number\n",
      "737 is palindrome number\n",
      "747 is palindrome number\n",
      "757 is palindrome number\n",
      "767 is palindrome number\n",
      "777 is palindrome number\n",
      "787 is palindrome number\n",
      "797 is palindrome number\n",
      "808 is palindrome number\n",
      "818 is palindrome number\n",
      "828 is palindrome number\n",
      "838 is palindrome number\n",
      "848 is palindrome number\n",
      "858 is palindrome number\n",
      "868 is palindrome number\n",
      "878 is palindrome number\n",
      "888 is palindrome number\n",
      "898 is palindrome number\n",
      "909 is palindrome number\n",
      "919 is palindrome number\n",
      "929 is palindrome number\n",
      "939 is palindrome number\n",
      "949 is palindrome number\n",
      "959 is palindrome number\n",
      "969 is palindrome number\n",
      "979 is palindrome number\n",
      "989 is palindrome number\n",
      "999 is palindrome number\n",
      "Total Palindrome numbers are= 90\n"
     ]
    }
   ],
   "source": [
    "#numbers taken from user palindrome series\n",
    "\n",
    "a=int(input(\"enter a number:\"))\n",
    "b=int(input(\"enter a number:\"))\n",
    "\n",
    "count=0\n",
    "for i in range(a,b):\n",
    "  temp=i\n",
    "  rev=0\n",
    "  while i>0:\n",
    "    rem=i%10\n",
    "    rev=(rev*10)+rem\n",
    "    i=i//10\n",
    "  if temp==rev:\n",
    "    print(temp,\"is palindrome number\")\n",
    "    count+=1\n",
    "print(\"Total Palindrome numbers are=\",count)\n",
    " "
   ]
  },
  {
   "cell_type": "code",
   "execution_count": null,
   "id": "9dc31190",
   "metadata": {},
   "outputs": [],
   "source": []
  }
 ],
 "metadata": {
  "kernelspec": {
   "display_name": "Python 3 (ipykernel)",
   "language": "python",
   "name": "python3"
  },
  "language_info": {
   "codemirror_mode": {
    "name": "ipython",
    "version": 3
   },
   "file_extension": ".py",
   "mimetype": "text/x-python",
   "name": "python",
   "nbconvert_exporter": "python",
   "pygments_lexer": "ipython3",
   "version": "3.9.7"
  }
 },
 "nbformat": 4,
 "nbformat_minor": 5
}
