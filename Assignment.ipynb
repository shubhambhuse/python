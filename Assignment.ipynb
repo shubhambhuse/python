{
 "cells": [
  {
   "cell_type": "markdown",
   "id": "ee3a00e6",
   "metadata": {},
   "source": [
    "### Write a program to check whether a number is divisible by 7 or not."
   ]
  },
  {
   "cell_type": "code",
   "execution_count": 1,
   "id": "72305463",
   "metadata": {},
   "outputs": [
    {
     "name": "stdout",
     "output_type": "stream",
     "text": [
      "enter number 10\n",
      "number can't divisible by 7\n"
     ]
    }
   ],
   "source": [
    "a=input('enter number ')\n",
    "a=int(a)\n",
    "b=(a%7)\n",
    "if(b==0):\n",
    "    print('number divisible by 7')\n",
    "else:\n",
    "    print(\"number can't divisible by 7\")"
   ]
  },
  {
   "cell_type": "markdown",
   "id": "bee1cac7",
   "metadata": {},
   "source": [
    "### Write a program to check whether a person is eligible for voting or not. (accept age from user)\n"
   ]
  },
  {
   "cell_type": "code",
   "execution_count": 2,
   "id": "05a093f7",
   "metadata": {},
   "outputs": [
    {
     "name": "stdout",
     "output_type": "stream",
     "text": [
      "enter number 20\n",
      "you are eligible for vote\n"
     ]
    }
   ],
   "source": [
    "a=input('enter number ')\n",
    "a=int(a)\n",
    "if(a>18):\n",
    "    print('you are eligible for vote')\n",
    "else:\n",
    "    print('you are not eligible for vote')"
   ]
  },
  {
   "cell_type": "markdown",
   "id": "58151540",
   "metadata": {},
   "source": [
    "### Write a program to check whether a number entered by user is even or odd."
   ]
  },
  {
   "cell_type": "code",
   "execution_count": 3,
   "id": "02edb7d7",
   "metadata": {},
   "outputs": [
    {
     "name": "stdout",
     "output_type": "stream",
     "text": [
      "enter number 11\n",
      "number is odd\n"
     ]
    }
   ],
   "source": [
    "a=input('enter number ')\n",
    "a=int(a)\n",
    "b=(a%2)\n",
    "if(b==0):\n",
    "    print('number is even')\n",
    "else:\n",
    "    print('number is odd')"
   ]
  },
  {
   "cell_type": "markdown",
   "id": "cf192c84",
   "metadata": {},
   "source": [
    "### Write a program to display \"Hello\" if a number entered by user is a multiple of five , otherwise print \"Bye\"."
   ]
  },
  {
   "cell_type": "code",
   "execution_count": 4,
   "id": "0fde01cd",
   "metadata": {},
   "outputs": [
    {
     "name": "stdout",
     "output_type": "stream",
     "text": [
      "enter number14\n",
      "Bye\n"
     ]
    }
   ],
   "source": [
    "a=int(input('enter number'))\n",
    "b=(a%5)\n",
    "if(b==0):\n",
    "    print('Hello')\n",
    "else:\n",
    "    print('Bye')"
   ]
  },
  {
   "cell_type": "markdown",
   "id": "0917d4bf",
   "metadata": {},
   "source": [
    "### check number is prime or not"
   ]
  },
  {
   "cell_type": "code",
   "execution_count": 9,
   "id": "6e0c0e13",
   "metadata": {},
   "outputs": [
    {
     "name": "stdout",
     "output_type": "stream",
     "text": [
      "enter number= 5\n",
      "yes\n"
     ]
    }
   ],
   "source": [
    "n=int(input('enter number= '))\n",
    "\n",
    "for i in range(2,n):\n",
    "    if n%i==0:\n",
    "        print(\"no\")\n",
    "        break\n",
    "else:\n",
    "    print(\"yes\")"
   ]
  },
  {
   "cell_type": "code",
   "execution_count": null,
   "id": "f60bb271",
   "metadata": {},
   "outputs": [],
   "source": []
  },
  {
   "cell_type": "code",
   "execution_count": 13,
   "id": "119f06eb",
   "metadata": {},
   "outputs": [
    {
     "name": "stdout",
     "output_type": "stream",
     "text": [
      "enter your city 1> Delhi,2> Agra,3> Jaipur  delhi\n",
      "Red Fort\n"
     ]
    }
   ],
   "source": [
    "city=input('enter your city 1> Delhi,2> Agra,3> Jaipur  ').capitalize()\n",
    "if(city=='Delhi'):\n",
    "    print('Red Fort')\n",
    "elif(city=='Agra'):\n",
    "    print('Taj Mahal')\n",
    "elif(city=='Jaipur'):\n",
    "    print('Jal Mahal')\n",
    "else:\n",
    "    print('please check your 1st entered letter is capatalised or')\n",
    "    print('you entered wrong city')"
   ]
  },
  {
   "cell_type": "markdown",
   "id": "657bf548",
   "metadata": {},
   "source": [
    "### Write a program to check whether a person is senior citizen or not."
   ]
  },
  {
   "cell_type": "code",
   "execution_count": 10,
   "id": "1f8bfe77",
   "metadata": {},
   "outputs": [
    {
     "name": "stdout",
     "output_type": "stream",
     "text": [
      "enter your age 65\n",
      "you are senior citizen\n"
     ]
    }
   ],
   "source": [
    "a=int(input('enter your age '))\n",
    "if(a>=60):\n",
    "    print('you are senior citizen')\n",
    "else:\n",
    "    print('you are not senior citizen')"
   ]
  },
  {
   "cell_type": "markdown",
   "id": "bc57e227",
   "metadata": {},
   "source": [
    "### Write a program to whether a number (accepted from user) is divisible by 2 and 3 both."
   ]
  },
  {
   "cell_type": "code",
   "execution_count": 16,
   "id": "0fd47ddc",
   "metadata": {},
   "outputs": [
    {
     "name": "stdout",
     "output_type": "stream",
     "text": [
      "enter the number 7\n",
      "number can't be divisible by 2 and 3\n"
     ]
    }
   ],
   "source": [
    "a=int(input('enter the number '))\n",
    "if(a%2==0 and a%3==0):\n",
    "    print('number can be divisible by 2 and 3')\n",
    "else:\n",
    "    print(\"number can't be divisible by 2 and 3\")"
   ]
  },
  {
   "cell_type": "markdown",
   "id": "43ab525b",
   "metadata": {},
   "source": [
    "### Write a program to check whether a number (accepted from user) is positive or negative."
   ]
  },
  {
   "cell_type": "code",
   "execution_count": 14,
   "id": "b763b5c2",
   "metadata": {},
   "outputs": [
    {
     "name": "stdout",
     "output_type": "stream",
     "text": [
      "enter the number5\n",
      "number is positive\n"
     ]
    }
   ],
   "source": [
    "a=int(input('enter the number'))\n",
    "if(a>0):\n",
    "    print('number is positive')\n",
    "else:\n",
    "    print('number is negative')"
   ]
  },
  {
   "cell_type": "markdown",
   "id": "ad663e63",
   "metadata": {},
   "source": [
    "### Accept the age of 4 people and display the youngest one?"
   ]
  },
  {
   "cell_type": "code",
   "execution_count": 18,
   "id": "7e3c977b",
   "metadata": {},
   "outputs": [
    {
     "name": "stdout",
     "output_type": "stream",
     "text": [
      "enter your age a:10\n",
      "enter your age b:20\n",
      "enter your age c:30\n",
      "enter your age d:5\n",
      "d is younger\n"
     ]
    }
   ],
   "source": [
    "a=int(input('enter your age a:'))\n",
    "b=int(input('enter your age b:'))\n",
    "c=int(input('enter your age c:'))\n",
    "d=int(input('enter your age d:'))\n",
    "if(a<b and a<c and a<d):\n",
    "    print('a is youonger')\n",
    "elif(b<a and b<c and b<d):\n",
    "    print('b is younger')\n",
    "elif(c<a and c<b and c<d):\n",
    "    print('c is younger')\n",
    "else:\n",
    "    print('d is younger')"
   ]
  },
  {
   "cell_type": "code",
   "execution_count": 19,
   "id": "4211b597",
   "metadata": {},
   "outputs": [
    {
     "name": "stdout",
     "output_type": "stream",
     "text": [
      "enter letter i\n",
      "this is vowel\n"
     ]
    }
   ],
   "source": [
    "vowel=input('enter letter ')\n",
    "if( 'a' or 'e' or 'i' or 'o' or 'u' in vowel):\n",
    "    print('this is vowel')\n",
    "else:\n",
    "    print('this is not vowel')"
   ]
  },
  {
   "cell_type": "markdown",
   "id": "70b21a79",
   "metadata": {},
   "source": [
    "#### Accept the following from the user and calculate the percentage of class attended:\n",
    "##### a. Total number of working days\n",
    "\n",
    "##### b. Total number of days for absent\n",
    "\n",
    "###### After calculating percentage show that, If the percentage is less than 75, than student will not be able to sit in exam."
   ]
  },
  {
   "cell_type": "code",
   "execution_count": 20,
   "id": "c649b3cc",
   "metadata": {},
   "outputs": [
    {
     "name": "stdout",
     "output_type": "stream",
     "text": [
      "enter total working days 100\n",
      "enter total absent days 10\n",
      "student will be able to sit in exam\n"
     ]
    }
   ],
   "source": [
    "a=int(input('enter total working days '))\n",
    "c=int(input('enter total absent days '))\n",
    "b=(a-c)/a\n",
    "if(b>=0.75):\n",
    "    print('student will be able to sit in exam')\n",
    "else:\n",
    "    print('student will not be able to sit in exam')"
   ]
  },
  {
   "cell_type": "markdown",
   "id": "2b03b320",
   "metadata": {},
   "source": [
    "#### Accept three sides of a triangle and check whether it is an equilateral, isosceles or scalene triangle.\n",
    "##### Note :\n",
    "\n",
    "#### 3 An equilateral triangle is a triangle in which all three sides are equal.\n",
    "\n",
    "#### A scalene triangle is a triangle that has three unequal sides.\n",
    "\n",
    "#### An isosceles triangle is a triangle with (at least) two equal sides."
   ]
  },
  {
   "cell_type": "code",
   "execution_count": 21,
   "id": "202abfd2",
   "metadata": {},
   "outputs": [
    {
     "name": "stdout",
     "output_type": "stream",
     "text": [
      "enter value 1\n",
      "enter value 2\n",
      "enter value 3\n",
      "It is an 'scalene triangle'\n"
     ]
    }
   ],
   "source": [
    "a= int(input('enter value '))\n",
    "b= int(input('enter value '))\n",
    "c= int(input('enter value '))\n",
    "if(a==b and b==c):\n",
    "    print(\"It is an 'equilateral triangle'\")\n",
    "elif(a!=b and b!=c):\n",
    "    print(\"It is an 'scalene triangle'\")\n",
    "else:\n",
    "    print(\"It is an 'isosceles triangle'\")\n",
    "    "
   ]
  },
  {
   "cell_type": "markdown",
   "id": "2dd59ee8",
   "metadata": {},
   "source": [
    "#### Accept the age, sex (‘M’, ‘F’), number of days and display the wages accordingly\n",
    "### Age Sex Wage/day\n",
    "\n",
    "#### =18 and <30 M 700 F 750 =30 and <=40 M 800 F 850"
   ]
  },
  {
   "cell_type": "code",
   "execution_count": 24,
   "id": "a468ac7e",
   "metadata": {},
   "outputs": [
    {
     "name": "stdout",
     "output_type": "stream",
     "text": [
      "enter your age 20\n",
      "enter your sex, M or F m\n",
      "enter your working days 10\n",
      "Wages 7000\n"
     ]
    }
   ],
   "source": [
    "a= int(input('enter your age '))\n",
    "s= input('enter your sex, M or F ').capitalize()\n",
    "d= int(input('enter your working days '))\n",
    "if(a>=18 and a<30 and s=='M'):\n",
    "    print('Wages',d*700) \n",
    "elif(a>=18 and a<30 and s=='F'):\n",
    "    print('Wages',d*750)\n",
    "elif(a>=30 and a<=40 and s=='M'):\n",
    "    print('Wages',d*800) \n",
    "else:\n",
    "    print('Wages',d*850)"
   ]
  },
  {
   "cell_type": "markdown",
   "id": "cbefefd4",
   "metadata": {},
   "source": [
    "### Accept three sides of triangle and check whether the triangle is possible or not.\n",
    "#### (triangle is possible only when sum of any two sides is greater than 3rd side)"
   ]
  },
  {
   "cell_type": "code",
   "execution_count": null,
   "id": "e02da05c",
   "metadata": {},
   "outputs": [],
   "source": [
    "a=int(input('enter the values '))\n",
    "b=int(input('enter the values '))\n",
    "c=int(input('enter the values '))\n",
    "if(a==0 or b==0 or c==0):\n",
    "    print(\"error\")\n",
    "elif (a+b>c or b+c>a or a+c>b):\n",
    "    print('triangle is possiblle')\n",
    "else:\n",
    "    print('triangle is not possiblle')"
   ]
  },
  {
   "cell_type": "markdown",
   "id": "7326bf42",
   "metadata": {},
   "source": [
    "### Write a program to calculate the electricity bill (accept number of unit from user) according to the following criteria : Unit Price First 100 units no charge Next 100 units Rs 5 per unit After 200 units Rs 10 per unit (For example if input unit is 350 than total bill amount is Rs2000"
   ]
  },
  {
   "cell_type": "code",
   "execution_count": 25,
   "id": "6f00d718",
   "metadata": {},
   "outputs": [
    {
     "name": "stdout",
     "output_type": "stream",
     "text": [
      "enter your unit  500\n",
      "3500\n"
     ]
    }
   ],
   "source": [
    "a=int(input('enter your unit  '))\n",
    "if(a<=100):\n",
    "    print('no charges')\n",
    "elif(a>=100 and a<=200):\n",
    "    bill= ((a-100)*5)\n",
    "    print(+bill)\n",
    "elif(a>=201):\n",
    "    bill= ((a-200)*10+500)\n",
    "    print(bill)\n",
    "else:\n",
    "    print('you entered wrong unit')"
   ]
  },
  {
   "cell_type": "markdown",
   "id": "7351d56b",
   "metadata": {},
   "source": [
    "### Write a program to display the last digit of a number. (hint : any number % 10 will return the last digit)"
   ]
  },
  {
   "cell_type": "code",
   "execution_count": 27,
   "id": "be77c9f0",
   "metadata": {},
   "outputs": [
    {
     "name": "stdout",
     "output_type": "stream",
     "text": [
      " Enter the Number: 12\n",
      "2\n"
     ]
    }
   ],
   "source": [
    "a= int(input(\" Enter the Number: \"))\n",
    "b = a%10\n",
    "print(b)"
   ]
  },
  {
   "cell_type": "markdown",
   "id": "dbc1ddb1",
   "metadata": {},
   "source": [
    "### Write a program to accept percentage from the user and display the grade according to the following criteria:\n",
    "\n",
    " ### Marks                                    \n",
    "  \n",
    " #### > 90    A                                     \n",
    " #### > 80 and <= 90   B\n",
    " #### >= 60 and <= 80    C\n",
    "####  below 60  D"
   ]
  },
  {
   "cell_type": "code",
   "execution_count": 28,
   "id": "a3e0f954",
   "metadata": {},
   "outputs": [
    {
     "name": "stdout",
     "output_type": "stream",
     "text": [
      "enter your percentage  60\n",
      "your grade is 'C'\n"
     ]
    }
   ],
   "source": [
    "a=int(input('enter your percentage  '))\n",
    "if(a>90):\n",
    "    print(\"your grade is 'A'\")\n",
    "elif(a>80 and a<=90):\n",
    "    print(\"your grade is 'B'\")\n",
    "elif(a>=60 and a<=80):\n",
    "    print(\"your grade is 'C'\")\n",
    "else:\n",
    "    print(\"your grade is 'D'\")"
   ]
  },
  {
   "cell_type": "markdown",
   "id": "6f8e0885",
   "metadata": {},
   "source": [
    "### Write a program to check whether an years is leap year or n"
   ]
  },
  {
   "cell_type": "code",
   "execution_count": 31,
   "id": "2974f2af",
   "metadata": {},
   "outputs": [
    {
     "name": "stdout",
     "output_type": "stream",
     "text": [
      "Enter the year 2020\n",
      "Given year is leap\n"
     ]
    }
   ],
   "source": [
    "year = int(input(\"Enter the year \"))\n",
    "if(year%4==0):\n",
    "    if(year%100==0):\n",
    "        if(year%400==0):\n",
    "            print(\"Given year is leap\")\n",
    "        else:\n",
    "            print(\"Given year is not leap\")\n",
    "    else:\n",
    "        print(\"Given year is leap\")\n",
    "else:\n",
    "    print(\"Given year is not leap\")"
   ]
  },
  {
   "cell_type": "code",
   "execution_count": null,
   "id": "0a066a63",
   "metadata": {},
   "outputs": [],
   "source": [
    "a=int(input(\"enter start year\"))\n",
    "b=int(input(\"enter end year\"))\n",
    "leap=[]\n",
    "notleap=[]\n",
    "l=0\n",
    "nl=0\n",
    "for i in range(a,b):\n",
    "    if(i%4==0):\n",
    "        if(i%100==0):\n",
    "            if(i%400==0):\n",
    "                leap.append(i)\n",
    "                l+=1\n",
    "            else:\n",
    "                notleap.append(i)\n",
    "                nl+=1\n",
    "        else:\n",
    "            leap.append(i)\n",
    "            l+=1\n",
    "    else:\n",
    "        notleap.append(i)\n",
    "        nl+=1\n",
    "        \n",
    "        \n",
    "print(\"Leap year are:\",leap)\n",
    "print(\"not Leap year are:\",notleap)"
   ]
  },
  {
   "cell_type": "code",
   "execution_count": null,
   "id": "ab54faab",
   "metadata": {},
   "outputs": [],
   "source": []
  },
  {
   "cell_type": "code",
   "execution_count": null,
   "id": "0baf8e8d",
   "metadata": {},
   "outputs": [],
   "source": []
  },
  {
   "cell_type": "code",
   "execution_count": null,
   "id": "837caa47",
   "metadata": {},
   "outputs": [],
   "source": []
  },
  {
   "cell_type": "code",
   "execution_count": null,
   "id": "bdb3fcbf",
   "metadata": {},
   "outputs": [],
   "source": []
  },
  {
   "cell_type": "code",
   "execution_count": null,
   "id": "232c55b3",
   "metadata": {},
   "outputs": [],
   "source": []
  },
  {
   "cell_type": "code",
   "execution_count": null,
   "id": "3c1ad510",
   "metadata": {},
   "outputs": [],
   "source": []
  },
  {
   "cell_type": "code",
   "execution_count": null,
   "id": "ecc003c5",
   "metadata": {},
   "outputs": [],
   "source": []
  },
  {
   "cell_type": "code",
   "execution_count": null,
   "id": "868b72db",
   "metadata": {},
   "outputs": [],
   "source": []
  },
  {
   "cell_type": "code",
   "execution_count": null,
   "id": "992c102d",
   "metadata": {},
   "outputs": [],
   "source": []
  }
 ],
 "metadata": {
  "kernelspec": {
   "display_name": "Python 3 (ipykernel)",
   "language": "python",
   "name": "python3"
  },
  "language_info": {
   "codemirror_mode": {
    "name": "ipython",
    "version": 3
   },
   "file_extension": ".py",
   "mimetype": "text/x-python",
   "name": "python",
   "nbconvert_exporter": "python",
   "pygments_lexer": "ipython3",
   "version": "3.9.7"
  }
 },
 "nbformat": 4,
 "nbformat_minor": 5
}
