{
 "cells": [
  {
   "cell_type": "markdown",
   "id": "77680f98",
   "metadata": {},
   "source": [
    "### Q: 1 Write A program to accept Four digit number from user and count zero , odd and even digits from the entered number."
   ]
  },
  {
   "cell_type": "code",
   "execution_count": 9,
   "id": "5508c773",
   "metadata": {},
   "outputs": [
    {
     "name": "stdout",
     "output_type": "stream",
     "text": [
      "0123456789000\n",
      "zero: 4\n",
      "odd: 5\n",
      "even: 4\n"
     ]
    }
   ],
   "source": [
    "a=input()\n",
    "l2=list(map(int,a))\n",
    "zero=0\n",
    "odd=0\n",
    "even=0\n",
    "for i in l2:\n",
    "    if i == 0:\n",
    "        zero+=1\n",
    "    elif i%2==0:\n",
    "        even+=1\n",
    "    elif i%2!=0:\n",
    "        odd+=1\n",
    "print(\"zero:\",zero)\n",
    "print(\"odd:\",odd)\n",
    "print(\"even:\",even)"
   ]
  },
  {
   "cell_type": "code",
   "execution_count": null,
   "id": "18f5e805",
   "metadata": {},
   "outputs": [],
   "source": []
  },
  {
   "cell_type": "markdown",
   "id": "ce2235af",
   "metadata": {},
   "source": [
    "### Write a program which will find all such numbers which are divisible by 7 but are not a multiple of 5, between 2000 and 3200 (both included).The numbers obtained should be printed in a comma-separated sequence on a single line.\n"
   ]
  },
  {
   "cell_type": "code",
   "execution_count": null,
   "id": "ddebadb8",
   "metadata": {},
   "outputs": [],
   "source": [
    "l=[]\n",
    "for i in range(2000, 3201):\n",
    "    if (i%7==0) and (i%5!=0):\n",
    "        l.append(str(i))\n",
    "\n",
    "print (','.join(l))"
   ]
  },
  {
   "cell_type": "markdown",
   "id": "2574d8fa",
   "metadata": {},
   "source": [
    "### Q :Write a Python program to find those numbers which are divisible by 7 and multiple of 5, between 1500 and 2700 (both included)"
   ]
  },
  {
   "cell_type": "code",
   "execution_count": 7,
   "id": "d5743d43",
   "metadata": {},
   "outputs": [
    {
     "name": "stdout",
     "output_type": "stream",
     "text": [
      "Number is divisible by 7 and multiple by 5 =  1505\n",
      "Number is divisible by 7 and multiple by 5 =  1540\n",
      "Number is divisible by 7 and multiple by 5 =  1575\n",
      "Number is divisible by 7 and multiple by 5 =  1610\n",
      "Number is divisible by 7 and multiple by 5 =  1645\n",
      "Number is divisible by 7 and multiple by 5 =  1680\n",
      "Number is divisible by 7 and multiple by 5 =  1715\n",
      "Number is divisible by 7 and multiple by 5 =  1750\n",
      "Number is divisible by 7 and multiple by 5 =  1785\n",
      "Number is divisible by 7 and multiple by 5 =  1820\n",
      "Number is divisible by 7 and multiple by 5 =  1855\n",
      "Number is divisible by 7 and multiple by 5 =  1890\n",
      "Number is divisible by 7 and multiple by 5 =  1925\n",
      "Number is divisible by 7 and multiple by 5 =  1960\n",
      "Number is divisible by 7 and multiple by 5 =  1995\n",
      "Number is divisible by 7 and multiple by 5 =  2030\n",
      "Number is divisible by 7 and multiple by 5 =  2065\n",
      "Number is divisible by 7 and multiple by 5 =  2100\n",
      "Number is divisible by 7 and multiple by 5 =  2135\n",
      "Number is divisible by 7 and multiple by 5 =  2170\n",
      "Number is divisible by 7 and multiple by 5 =  2205\n",
      "Number is divisible by 7 and multiple by 5 =  2240\n",
      "Number is divisible by 7 and multiple by 5 =  2275\n",
      "Number is divisible by 7 and multiple by 5 =  2310\n",
      "Number is divisible by 7 and multiple by 5 =  2345\n",
      "Number is divisible by 7 and multiple by 5 =  2380\n",
      "Number is divisible by 7 and multiple by 5 =  2415\n",
      "Number is divisible by 7 and multiple by 5 =  2450\n",
      "Number is divisible by 7 and multiple by 5 =  2485\n",
      "Number is divisible by 7 and multiple by 5 =  2520\n",
      "Number is divisible by 7 and multiple by 5 =  2555\n",
      "Number is divisible by 7 and multiple by 5 =  2590\n",
      "Number is divisible by 7 and multiple by 5 =  2625\n",
      "Number is divisible by 7 and multiple by 5 =  2660\n",
      "Number is divisible by 7 and multiple by 5 =  2695\n"
     ]
    }
   ],
   "source": [
    "for i in range (1500,2700):\n",
    "    if (i%7==0) and (i%5==0):\n",
    "        print('Number is divisible by 7 and multiple by 5 = ',i)"
   ]
  },
  {
   "cell_type": "code",
   "execution_count": null,
   "id": "aa848af0",
   "metadata": {},
   "outputs": [],
   "source": []
  },
  {
   "cell_type": "markdown",
   "id": "01f0ec84",
   "metadata": {},
   "source": [
    "### Q.: 3 Write a Python program to convert temperatures to and from celsius, fahrenheit. Go to the editor [ Formula : c/5 = f-32/9 [ where c = temperature in celsius and f = temperature in fahrenheit ] Expected Output : 60°C is 140 in Fahrenheit 45°F is 7 in Celsius"
   ]
  },
  {
   "cell_type": "code",
   "execution_count": 5,
   "id": "520713ed",
   "metadata": {},
   "outputs": [
    {
     "name": "stdout",
     "output_type": "stream",
     "text": [
      "Celsius to fahrenheit put 'a' \n",
      "Fahrenheit to Celsius put 'b' =   a\n",
      "Enter Temprature in 'Celsius' =  100\n",
      "Temprature in Farenheit is =  212.0\n"
     ]
    }
   ],
   "source": [
    "a=0\n",
    "c=0\n",
    "\n",
    "s=input(\"\"\"Celsius to fahrenheit put 'a' \n",
    "Fahrenheit to Celsius put 'b' =   \"\"\")\n",
    "if (s==\"a\"):\n",
    "    a=int(input(\"Enter Temprature in 'Celsius' =  \"))\n",
    "    b = (a*(9/5)+32)\n",
    "    print('Temprature in Farenheit is = ',b)\n",
    "elif(s=='b') or (s!='a'):\n",
    "    c=int(input(\"Enter Temprature in 'Fahrenheit' =  \"))\n",
    "    d=(c-32)*(5/9)\n",
    "    print('Temprature in Celsius is = ',d)\n"
   ]
  },
  {
   "cell_type": "code",
   "execution_count": null,
   "id": "c5b00f4b",
   "metadata": {},
   "outputs": [],
   "source": []
  },
  {
   "cell_type": "code",
   "execution_count": null,
   "id": "fde3592c",
   "metadata": {},
   "outputs": [],
   "source": [
    "# convert all tempratures"
   ]
  },
  {
   "cell_type": "code",
   "execution_count": 2,
   "id": "ec0c685b",
   "metadata": {},
   "outputs": [
    {
     "name": "stdout",
     "output_type": "stream",
     "text": [
      "Celsius to fahrenheit put 'a'\n",
      "Fahrenheit to Celsius put 'b'\n",
      "Celsius to kelvin     put 'c' \n",
      "kelvin to celsius     put 'k'\n",
      "=k\n",
      "Enter Temprature in 'Kelvin' =  573.15\n",
      "Temprature in Celsius is =  300.0\n"
     ]
    }
   ],
   "source": [
    "a=0\n",
    "c=0\n",
    "\n",
    "s=input(\"\"\"Celsius to fahrenheit put 'a'\n",
    "Fahrenheit to Celsius put 'b'\n",
    "Celsius to kelvin     put 'c' \n",
    "kelvin to celsius     put 'k'\n",
    "=\"\"\")\n",
    "if (s==\"a\"):\n",
    "    a=int(input(\"Enter Temprature in 'Celsius' =  \"))\n",
    "    b = (a*(9/5)+32)\n",
    "    print('Temprature in Farenheit is = ',b)\n",
    "elif(s=='b'):\n",
    "    c=int(input(\"Enter Temprature in 'Fahrenheit' =  \"))\n",
    "    d=(c-32)*(5/9)\n",
    "    print('Temprature in Celsius is = ',d)\n",
    "if (s==\"c\"):\n",
    "    k=int(input(\"Enter Temprature in 'Celsius' =  \"))\n",
    "    m = (k+273.15)\n",
    "    print('Temprature in kelvin is = ',m)\n",
    "elif(s=='k'):\n",
    "    e=float(input(\"Enter Temprature in 'Kelvin' =  \"))\n",
    "    l=(e-273.15)\n",
    "    print('Temprature in Celsius is = ',l)\n"
   ]
  },
  {
   "cell_type": "code",
   "execution_count": null,
   "id": "1e3b8ef0",
   "metadata": {},
   "outputs": [],
   "source": []
  },
  {
   "cell_type": "markdown",
   "id": "d6241bdf",
   "metadata": {},
   "source": [
    "### Q:4 Write a Python program that accepts a word from the user and reverse it."
   ]
  },
  {
   "cell_type": "code",
   "execution_count": 5,
   "id": "a43c1f0a",
   "metadata": {},
   "outputs": [
    {
     "name": "stdout",
     "output_type": "stream",
     "text": [
      "enter your list shubham\n"
     ]
    },
    {
     "data": {
      "text/plain": [
       "['m', 'a', 'h', 'b', 'u', 'h', 's']"
      ]
     },
     "execution_count": 5,
     "metadata": {},
     "output_type": "execute_result"
    }
   ],
   "source": [
    "list=[]\n",
    "a=input(\"enter your list \")\n",
    "list.extend(a)\n",
    "list.reverse()\n",
    "list"
   ]
  },
  {
   "cell_type": "code",
   "execution_count": null,
   "id": "01cf19b7",
   "metadata": {},
   "outputs": [],
   "source": []
  },
  {
   "cell_type": "markdown",
   "id": "7ddb79dd",
   "metadata": {},
   "source": [
    "### Q: 5 Write a Python program to get the Fibonacci series between 0 to 50. Go to the editor Note : The Fibonacci Sequence is the series of numbers : 0, 1, 1, 2, 3, 5, 8, 13, 21, .... Every next number is found by adding up the two numbers before it. Expected Output : 1 1 2 3 5 8 13 21 34"
   ]
  },
  {
   "cell_type": "code",
   "execution_count": 1,
   "id": "a4d16723",
   "metadata": {},
   "outputs": [
    {
     "name": "stdout",
     "output_type": "stream",
     "text": [
      "what terms till do you want? 5\n",
      "Fibonacci series:[0, 1, 1, 2, 3]\n"
     ]
    }
   ],
   "source": [
    "#fibonacci series\n",
    "\n",
    "n= int(input(\"what terms till do you want? \"))\n",
    "\n",
    "n1=0\n",
    "n2=1\n",
    "count = 0\n",
    "list=[]\n",
    "\n",
    "if n <= 0:\n",
    "   print(\"Please enter a positive integer\")\n",
    "elif n == 1:\n",
    "   print(\"Fibonacci series\",n,\":\")\n",
    "   print(n1)\n",
    "else:\n",
    "   print(\"Fibonacci series:\",end=\"\")\n",
    "   while count < n:\n",
    "       list.append(n1)\n",
    "       nth = n1 + n2\n",
    "       n1 = n2\n",
    "       n2 = nth\n",
    "       count += 1\n",
    "print(list)\n",
    "\n"
   ]
  },
  {
   "cell_type": "code",
   "execution_count": null,
   "id": "f6d089d1",
   "metadata": {},
   "outputs": [],
   "source": []
  },
  {
   "cell_type": "markdown",
   "id": "0ed81080",
   "metadata": {},
   "source": [
    "### Q:6 Write a Python program to check whether an alphabet is a vowel or consonant."
   ]
  },
  {
   "cell_type": "code",
   "execution_count": 13,
   "id": "91abdbf1",
   "metadata": {},
   "outputs": [
    {
     "name": "stdout",
     "output_type": "stream",
     "text": [
      "Enter alphabet=  l\n",
      "your entered alphabet l is consonents\n"
     ]
    }
   ],
   "source": [
    "a=input(\"Enter alphabet=  \")\n",
    "if a== 'a':\n",
    "    print(\"your entered alphabet 'a' is vowel\")\n",
    "elif a=='e':\n",
    "    print(\"your entered alphabet 'e' is vowel\")\n",
    "elif a=='i':\n",
    "    print(\"your entered alphabet 'i' is vowel\")\n",
    "elif a=='o':\n",
    "    print(\"your entered alphabet 'o' is vowel\")\n",
    "elif a=='u':\n",
    "    print(\"your entered alphabet 'u' is vowel\")\n",
    "else:\n",
    "    print(\"your entered alphabet\",a, \"is consonents\")"
   ]
  },
  {
   "cell_type": "code",
   "execution_count": null,
   "id": "f7d8a928",
   "metadata": {},
   "outputs": [],
   "source": []
  },
  {
   "cell_type": "code",
   "execution_count": null,
   "id": "720e361b",
   "metadata": {},
   "outputs": [],
   "source": []
  },
  {
   "cell_type": "code",
   "execution_count": null,
   "id": "98805095",
   "metadata": {},
   "outputs": [],
   "source": []
  },
  {
   "cell_type": "code",
   "execution_count": null,
   "id": "204ec073",
   "metadata": {},
   "outputs": [],
   "source": []
  }
 ],
 "metadata": {
  "kernelspec": {
   "display_name": "Python 3 (ipykernel)",
   "language": "python",
   "name": "python3"
  },
  "language_info": {
   "codemirror_mode": {
    "name": "ipython",
    "version": 3
   },
   "file_extension": ".py",
   "mimetype": "text/x-python",
   "name": "python",
   "nbconvert_exporter": "python",
   "pygments_lexer": "ipython3",
   "version": "3.9.7"
  }
 },
 "nbformat": 4,
 "nbformat_minor": 5
}
